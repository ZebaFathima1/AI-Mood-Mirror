{
 "cells": [
  {
   "cell_type": "code",
   "execution_count": null,
   "id": "da0eb168-63fb-4a2f-bd47-f4ee11ed18fa",
   "metadata": {},
   "outputs": [],
   "source": [
    "!where python"
   ]
  },
  {
   "cell_type": "code",
   "execution_count": null,
   "id": "c38dbca1-33ac-4acc-ba89-5fab32c72588",
   "metadata": {},
   "outputs": [],
   "source": [
    "!pip install deepface opencv-python pandas\n"
   ]
  },
  {
   "cell_type": "code",
   "execution_count": null,
   "id": "557cf239-1152-42ee-98b3-d28b7a7f24e4",
   "metadata": {},
   "outputs": [],
   "source": [
    "!pip install numpy==1.24.3 --force-reinstall\n"
   ]
  },
  {
   "cell_type": "code",
   "execution_count": null,
   "id": "28006833-8c2e-44ed-a0dc-c38ee7937d0d",
   "metadata": {},
   "outputs": [],
   "source": [
    "import os\n",
    "os._exit(00)\n"
   ]
  },
  {
   "cell_type": "code",
   "execution_count": null,
   "id": "e0861d52-b863-4ea6-a0d1-22390a8d4126",
   "metadata": {},
   "outputs": [],
   "source": [
    "!pip install deepface opencv-python-headless pandas pillow\n"
   ]
  },
  {
   "cell_type": "code",
   "execution_count": null,
   "id": "780e9232-0df4-413e-90c4-f8c64ce04fa6",
   "metadata": {},
   "outputs": [],
   "source": [
    "!pip install numpy==1.24.3 matplotlib==3.7.2"
   ]
  },
  {
   "cell_type": "code",
   "execution_count": null,
   "id": "e4577b17-3a67-49bc-aab0-cedc1e923911",
   "metadata": {},
   "outputs": [],
   "source": [
    "!pip uninstall matplotlib -y\n"
   ]
  },
  {
   "cell_type": "code",
   "execution_count": null,
   "id": "f3dd0a19-7816-401b-a3ce-5723c8fad912",
   "metadata": {},
   "outputs": [],
   "source": [
    "!pip install matplotlib==3.7.2\n"
   ]
  },
  {
   "cell_type": "code",
   "execution_count": null,
   "id": "9b025e68-b13e-4c4d-b534-2379fd2dee6b",
   "metadata": {},
   "outputs": [],
   "source": [
    "import matplotlib.pyplot as plt\n",
    "\n",
    "plt.plot([1, 2, 3], [4, 5, 6])\n",
    "plt.title(\"✅ Matplotlib is working!\")\n",
    "plt.show()\n"
   ]
  },
  {
   "cell_type": "code",
   "execution_count": null,
   "id": "20c73a35-cd4a-4772-acb0-af22b2bf7a14",
   "metadata": {},
   "outputs": [],
   "source": [
    "import os\n",
    "print(\"📂 Current working directory:\", os.getcwd())\n"
   ]
  },
  {
   "cell_type": "code",
   "execution_count": null,
   "id": "787fc1c0-e195-4502-be25-4543a4e9fee3",
   "metadata": {},
   "outputs": [],
   "source": [
    "import pandas as pd\n",
    "\n",
    "df = pd.read_csv(\"emotion_log.csv\")\n",
    "df.tail()  # Show the latest entries\n"
   ]
  },
  {
   "cell_type": "code",
   "execution_count": null,
   "id": "a60fb729-bcf6-4ca5-8bfa-6b3bff9c8f76",
   "metadata": {},
   "outputs": [],
   "source": [
    "!pip install streamlit\n"
   ]
  },
  {
   "cell_type": "code",
   "execution_count": null,
   "id": "6d4fc5d4-517c-4d75-8a2a-950601ffca9c",
   "metadata": {},
   "outputs": [],
   "source": [
    "import os\n",
    "\n",
    "os.makedirs(\".streamlit\", exist_ok=True)\n",
    "with open(\".streamlit/config.toml\", \"w\") as f:\n",
    "    f.write(\"\"\"\n",
    "[theme]\n",
    "primaryColor = \"#FF4B4B\"\n",
    "backgroundColor = \"#1E1E1E\"\n",
    "secondaryBackgroundColor = \"#31333F\"\n",
    "textColor = \"#FAFAFA\"\n",
    "font = \"sans serif\"\n",
    "\"\"\")\n"
   ]
  },
  {
   "cell_type": "code",
   "execution_count": null,
   "id": "e65c8172-9968-43fe-b4a7-3de55ad2d83f",
   "metadata": {},
   "outputs": [],
   "source": [
    "app_code = '''\n",
    "import streamlit as st\n",
    "import cv2\n",
    "from deepface import DeepFace\n",
    "import os\n",
    "from datetime import datetime\n",
    "import pandas as pd\n",
    "from PIL import Image\n",
    "\n",
    "# ------------------ Theme ------------------\n",
    "st.set_page_config(page_title=\"AI Mood Mirror\", layout=\"centered\")\n",
    "\n",
    "st.markdown(\n",
    "    \"\"\"\n",
    "    <style>\n",
    "    .title {\n",
    "        font-size:40px;\n",
    "        font-weight:700;\n",
    "        color:#ff4b4b;\n",
    "        text-align:center;\n",
    "        margin-bottom:10px;\n",
    "    }\n",
    "    .subtitle {\n",
    "        text-align:center;\n",
    "        color:gray;\n",
    "        font-size:18px;\n",
    "    }\n",
    "    .emoji-box {\n",
    "        font-size:60px;\n",
    "        text-align:center;\n",
    "        margin-top:20px;\n",
    "    }\n",
    "    .msg {\n",
    "        font-size:20px;\n",
    "        font-weight:500;\n",
    "        text-align:center;\n",
    "        color:#4CAF50;\n",
    "    }\n",
    "    </style>\n",
    "    \"\"\",\n",
    "    unsafe_allow_html=True\n",
    ")\n",
    "\n",
    "# ------------------ Header ------------------\n",
    "st.markdown(\"<div class='title'>🪞 AI Mood Mirror</div>\", unsafe_allow_html=True)\n",
    "st.markdown(\"<div class='subtitle'>Let AI reflect your vibe today!</div>\", unsafe_allow_html=True)\n",
    "st.markdown(\"---\")\n",
    "\n",
    "# ------------------ Emoji Map ------------------\n",
    "emoji_map = {\n",
    "    'happy': ('😄', 'Cheer up! You’re glowing! 🌟'),\n",
    "    'sad': ('😢', 'Hey, everything will be okay 💖'),\n",
    "    'angry': ('😠', 'Breathe. You’ve got this! 💪'),\n",
    "    'neutral': ('😐', 'Stay calm and centered. 🧘‍♀️'),\n",
    "    'surprise': ('😮', 'Wow! What happened?! 🎉'),\n",
    "    'fear': ('😨', 'Fear is temporary, power is permanent! ⚡'),\n",
    "    'disgust': ('🤢', 'Shake it off! New vibe incoming 🚀'),\n",
    "}\n",
    "\n",
    "# ------------------ Webcam Button ------------------\n",
    "start = st.button(\"📸 Capture Emotion from Webcam\")\n",
    "\n",
    "if start:\n",
    "    st.info(\"Get ready! Capturing in 3 seconds...\")\n",
    "    cap = cv2.VideoCapture(0)\n",
    "\n",
    "    for i in range(3, 0, -1):\n",
    "        st.write(f\"⏳ Capturing in {i}...\")\n",
    "        cv2.waitKey(1000)\n",
    "\n",
    "    ret, frame = cap.read()\n",
    "    img_path = \"captured.jpg\"\n",
    "    cv2.imwrite(img_path, frame)\n",
    "    cap.release()\n",
    "    cv2.destroyAllWindows()\n",
    "\n",
    "    st.success(\"📸 Image captured!\")\n",
    "    st.image(Image.open(img_path), caption=\"Captured Image\", use_container_width=True)\n",
    "\n",
    "    try:\n",
    "        result = DeepFace.analyze(img_path=img_path, actions=[\"emotion\"], enforce_detection=False)\n",
    "        emotion = result[0]['dominant_emotion']\n",
    "        emoji, message = emoji_map.get(emotion, ('✨', 'Be your best self today! 💫'))\n",
    "\n",
    "        st.markdown(f\"<div class='emoji-box'>{emoji}</div>\", unsafe_allow_html=True)\n",
    "        st.markdown(f\"<div class='msg'>🧠 Detected Emotion: <strong>{emotion.upper()}</strong><br>{message}</div>\", unsafe_allow_html=True)\n",
    "\n",
    "        # Save to CSV silently\n",
    "        log_entry = {\n",
    "            \"Timestamp\": datetime.now().strftime(\"%Y-%m-%d %H:%M:%S\"),\n",
    "            \"Detected Emotion\": emotion\n",
    "        }\n",
    "\n",
    "        log_path = \"emotion_log.csv\"\n",
    "        if not os.path.exists(log_path):\n",
    "            pd.DataFrame([log_entry]).to_csv(log_path, index=False)\n",
    "        else:\n",
    "            df = pd.read_csv(log_path)\n",
    "            df = pd.concat([df, pd.DataFrame([log_entry])], ignore_index=True)\n",
    "            df.to_csv(log_path, index=False)\n",
    "\n",
    "    except Exception as e:\n",
    "        st.error(f\"❌ Error: {e}\")\n",
    "'''\n",
    "\n",
    "# ✅ Save to app.py with encoding for emojis\n",
    "with open(\"app.py\", \"w\", encoding=\"utf-8\") as f:\n",
    "    f.write(app_code)\n",
    "\n",
    "print(\"✅ Streamlit app written to app.py (with hidden emotion log display)\")\n"
   ]
  },
  {
   "cell_type": "code",
   "execution_count": null,
   "id": "b31d51e0-c86b-4553-b626-0d570dda4d6b",
   "metadata": {},
   "outputs": [],
   "source": [
    "with open(\"requirements.txt\", \"w\") as f:\n",
    "    f.write(\"streamlit\\ndeepface\\nopencv-python\\npillow\\npandas\")\n"
   ]
  },
  {
   "cell_type": "code",
   "execution_count": null,
   "id": "763232ef-91f1-416d-b4dd-31d62ea6b247",
   "metadata": {},
   "outputs": [],
   "source": []
  }
 ],
 "metadata": {
  "kernelspec": {
   "display_name": "Python (faceai)",
   "language": "python",
   "name": "faceai"
  },
  "language_info": {
   "codemirror_mode": {
    "name": "ipython",
    "version": 3
   },
   "file_extension": ".py",
   "mimetype": "text/x-python",
   "name": "python",
   "nbconvert_exporter": "python",
   "pygments_lexer": "ipython3",
   "version": "3.9.23"
  }
 },
 "nbformat": 4,
 "nbformat_minor": 5
}
